{
 "cells": [
  {
   "cell_type": "markdown",
   "id": "c9de0883ae4950cf",
   "metadata": {
    "collapsed": false
   },
   "source": [
    "# APMA\n",
    "- **Auto Protein Mutation Analyzer**\n",
    "- To install the dependency pacakge, please run the following code in your terminal\n",
    "```\n",
    "pip install .\n",
    "```\n",
    "- You should install R in you laptop and add R_Home in your environmental parameter\n",
    "```\n",
    "R_Home = your_route_to_R\n",
    "```\n",
    "- Install bio3d, igraph and NACEN package in your R\n",
    "```\n",
    "install.packages(\"bio3d\")\n",
    "```\n",
    "```\n",
    "install.pacakges(\"igraph\")\n",
    "```\n",
    "The NACEN website: http://sysbio.suda.edu.cn/NACEN\n",
    "\n",
    "- To start the analyzer, please run the following code, you should provide the following parameters\n",
    "\n",
    "| Parameter    | The description of parameter                 |\n",
    "| ------------ | -------------------------------------------- |\n",
    "| Position     | Your route to your mutation description file |\n",
    "| Protein      | Your route to your wild type PDB             |"
   ]
  },
  {
   "cell_type": "code",
   "execution_count": null,
   "id": "d9a6e8675d73d9e0",
   "metadata": {
    "collapsed": false
   },
   "outputs": [],
   "source": [
    "from Run import run_APMA\n",
    "run_APMA(Position = \"data/position.txt\", Protein=\"data/pten.pdb\")"
   ]
  },
  {
   "cell_type": "markdown",
   "id": "43129354",
   "metadata": {},
   "source": [
    "- To delete the output of FoldX"
   ]
  },
  {
   "cell_type": "code",
   "execution_count": 1,
   "id": "3b4cf5e672568928",
   "metadata": {
    "ExecuteTime": {
     "end_time": "2024-04-03T02:35:51.155578500Z",
     "start_time": "2024-04-03T02:35:51.049445100Z"
    },
    "collapsed": false
   },
   "outputs": [],
   "source": [
    "import os\n",
    "from Run import delete_files_in_directory\n",
    "\n",
    "folder_path = 'tools/FoldX'\n",
    "files = os.listdir(folder_path)\n",
    "\n",
    "for file_name in files:\n",
    "    \n",
    "    if file_name != 'foldx4.exe' and file_name != 'rotabase.txt' and file_name != 'foldx5.exe' and file_name != 'molecules':\n",
    "        file_path = os.path.join(folder_path, file_name)\n",
    "\n",
    "        os.remove(file_path)"
   ]
  },
  {
   "cell_type": "markdown",
   "id": "53052a4f4be11ffc",
   "metadata": {
    "collapsed": false
   },
   "source": [
    "# Figure\n",
    "- The following code is intended to draw some basic figures\n",
    "- They should only be ran after the APMA process is done\n",
    "- type your route to get the figures"
   ]
  },
  {
   "cell_type": "code",
   "execution_count": null,
   "id": "initial_id",
   "metadata": {
    "ExecuteTime": {
     "end_time": "2024-04-02T12:16:37.008461200Z",
     "start_time": "2024-04-02T12:16:32.975594700Z"
    },
    "collapsed": true
   },
   "outputs": [],
   "source": [
    "from ML.figure import plot_roc_for_disease_pairs\n",
    "plot_roc_for_disease_pairs(\"data/paras.txt\",\"Your route to Figure Folder\")\n",
    "\n",
    "from ML.figure import plot_box\n",
    "plot_box(\"data/paras.txt\",\"Your route to Figure Folder\")\n",
    "\n",
    "from ML.figure import plot_spearman\n",
    "plot_spearman(\"data/paras.txt\",\"Your route to Figure Folder\")\n",
    "\n",
    "from ML.figure import plot_importence_bar\n",
    "plot_importence_bar(\"data/paras.txt\", \"Your route to Figure Folder\")"
   ]
  },
  {
   "cell_type": "markdown",
   "id": "390b9a22dc8e8eca",
   "metadata": {
    "collapsed": false
   },
   "source": [
    "> Developed by Spencer Wang \n",
    "> 2024.4"
   ]
  }
 ],
 "metadata": {
  "kernelspec": {
   "display_name": "Python 3",
   "language": "python",
   "name": "python3"
  },
  "language_info": {
   "codemirror_mode": {
    "name": "ipython",
    "version": 3
   },
   "file_extension": ".py",
   "mimetype": "text/x-python",
   "name": "python",
   "nbconvert_exporter": "python",
   "pygments_lexer": "ipython3",
   "version": "3.10.13"
  }
 },
 "nbformat": 4,
 "nbformat_minor": 5
}
